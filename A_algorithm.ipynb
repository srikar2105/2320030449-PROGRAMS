{
  "nbformat": 4,
  "nbformat_minor": 0,
  "metadata": {
    "colab": {
      "provenance": []
    },
    "kernelspec": {
      "name": "python3",
      "display_name": "Python 3"
    },
    "language_info": {
      "name": "python"
    }
  },
  "cells": [
    {
      "cell_type": "code",
      "execution_count": null,
      "metadata": {
        "id": "Yal8hLXIehQn",
        "outputId": "7904ff52-cd17-4f09-de1b-a7299a419d97",
        "colab": {
          "base_uri": "https://localhost:8080/"
        }
      },
      "outputs": [
        {
          "output_type": "stream",
          "name": "stdout",
          "text": [
            "[(1, 0), (2, 0), (3, 0), (4, 0), (4, 1), (4, 2), (4, 3), (4, 4)]\n"
          ]
        }
      ],
      "source": [
        "#Program for A*\n",
        "import heapq\n",
        "\n",
        "def heuristic(a, b):\n",
        "    return abs(a[0] - b[0]) + abs(a[1] - b[1])\n",
        "\n",
        "def astar(start, goal, grid):\n",
        "    neighbors = [(0, 1), (0, -1), (1, 0), (-1, 0)]\n",
        "    close_set = set()\n",
        "    came_from = {}\n",
        "    gscore = {start: 0}\n",
        "    fscore = {start: heuristic(start, goal)}\n",
        "    oheap = []\n",
        "\n",
        "    heapq.heappush(oheap, (fscore[start], start))\n",
        "\n",
        "    while oheap:\n",
        "        current = heapq.heappop(oheap)[1]\n",
        "\n",
        "        if current == goal:\n",
        "            data = []\n",
        "            while current in came_from:\n",
        "                data.append(current)\n",
        "                current = came_from[current]\n",
        "            return data[::-1]\n",
        "\n",
        "        close_set.add(current)\n",
        "        for i, j in neighbors:\n",
        "            neighbor = current[0] + i, current[1] + j\n",
        "            tentative_g_score = gscore[current] + 1\n",
        "\n",
        "            if 0 <= neighbor[0] < len(grid):\n",
        "                if 0 <= neighbor[1] < len(grid[0]):\n",
        "                    if grid[neighbor[0]][neighbor[1]] == 1:\n",
        "                        continue\n",
        "                else:\n",
        "                    continue\n",
        "            else:\n",
        "                continue\n",
        "\n",
        "            if neighbor in close_set and tentative_g_score >= gscore.get(neighbor, 0):\n",
        "                continue\n",
        "\n",
        "            if tentative_g_score < gscore.get(neighbor, 0) or neighbor not in [i[1] for i in oheap]:\n",
        "                came_from[neighbor] = current\n",
        "                gscore[neighbor] = tentative_g_score\n",
        "                fscore[neighbor] = tentative_g_score + heuristic(neighbor, goal)\n",
        "                heapq.heappush(oheap, (fscore[neighbor], neighbor))\n",
        "\n",
        "    return False\n",
        "\n",
        "# Example usage:\n",
        "start = (0, 0)\n",
        "goal = (4, 4)\n",
        "grid = [\n",
        "    [0, 1, 0, 0, 0],\n",
        "    [0, 1, 0, 1, 0],\n",
        "    [0, 0, 0, 1, 0],\n",
        "    [0, 1, 1, 1, 0],\n",
        "    [0, 0, 0, 0, 0]\n",
        "]\n",
        "\n",
        "path = astar(start, goal, grid)\n",
        "print(path)\n"
      ]
    }
  ]
}